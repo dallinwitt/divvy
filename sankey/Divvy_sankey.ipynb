{
 "cells": [
  {
   "cell_type": "code",
   "execution_count": 1,
   "metadata": {},
   "outputs": [],
   "source": [
    "#import necessary packages: numpy, pandas, pyplot, and sankey\n",
    "import numpy as np\n",
    "import pandas as pd\n",
    "import matplotlib.pyplot as plt\n",
    "from matplotlib.sankey import Sankey"
   ]
  },
  {
   "cell_type": "code",
   "execution_count": 2,
   "metadata": {},
   "outputs": [],
   "source": [
    "#read in all the 2018 csv files\n",
    "divvy_2018_1 = pd.read_csv('Divvy_Trips_2018_Q1.csv', usecols = [0, 5, 7])\n",
    "divvy_2018_2 = pd.read_csv('Divvy_Trips_2018_Q2.csv', usecols = [0, 5, 7])\n",
    "divvy_2018_3 = pd.read_csv('Divvy_Trips_2018_Q3.csv', usecols = [0, 5, 7])\n",
    "divvy_2018_4 = pd.read_csv('Divvy_Trips_2018_Q4.csv', usecols = [0, 5, 7])\n",
    "\n",
    "#get all columns to int dtype\n",
    "divvy_2018_1[['to_station_id', 'from_station_id']] = divvy_2018_1[['to_station_id', 'from_station_id']].astype(int)\n",
    "divvy_2018_2[['to_station_id', 'from_station_id']] = divvy_2018_2[['to_station_id', 'from_station_id']].astype(int)\n",
    "divvy_2018_3[['to_station_id', 'from_station_id']] = divvy_2018_3[['to_station_id', 'from_station_id']].astype(int)\n",
    "divvy_2018_4[['to_station_id', 'from_station_id']] = divvy_2018_4[['to_station_id', 'from_station_id']].astype(int)\n",
    "\n",
    "#list of the dataframes\n",
    "divvy_dfs = [divvy_2018_1, divvy_2018_2, divvy_2018_3, divvy_2018_4]"
   ]
  },
  {
   "cell_type": "code",
   "execution_count": 3,
   "metadata": {},
   "outputs": [],
   "source": [
    "#concatenate the dataframes into one\n",
    "divvy_2018 = pd.concat(divvy_dfs, axis = 'rows', ignore_index = True)"
   ]
  },
  {
   "cell_type": "code",
   "execution_count": 4,
   "metadata": {},
   "outputs": [],
   "source": [
    "#create functions to generalize flow data info for any given station number\n",
    "#function todata() creates a dataframe that organizes inflow data by source station (stn)\n",
    "def todata(df, stn):\n",
    "    todf = df[df['to_station_id'] == stn]\n",
    "    todf = todf.groupby('from_station_id').count().sort_values(by = 'trip_id', ascending=False)\n",
    "    todf = todf.reset_index()\n",
    "    todf = todf[['from_station_id', 'trip_id']]\n",
    "    todf = todf.rename(columns = {'trip_id':'num_trips'})\n",
    "    return todf\n",
    "\n",
    "#function fromdata() creates a dataframe that organizes outflow data by destination station (stn)\n",
    "def fromdata(df, stn):\n",
    "    fromdf = df[df['from_station_id'] == stn]\n",
    "    fromdf = fromdf.groupby('to_station_id').count().sort_values(by = 'trip_id', ascending=False)\n",
    "    fromdf = fromdf.reset_index()\n",
    "    fromdf = fromdf[['to_station_id', 'trip_id']]\n",
    "    fromdf = fromdf.rename(columns = {'trip_id':'num_trips'})\n",
    "    return fromdf"
   ]
  },
  {
   "cell_type": "code",
   "execution_count": 5,
   "metadata": {},
   "outputs": [],
   "source": [
    "#create named dataframes using the previously defined functions\n",
    "to_stn = todata(divvy_2018, 192)\n",
    "from_stn = fromdata(divvy_2018, 192)"
   ]
  },
  {
   "cell_type": "code",
   "execution_count": 6,
   "metadata": {},
   "outputs": [],
   "source": [
    "#read in divvy station csv\n",
    "stations = pd.read_csv('Divvy_Bicycle_Stations.csv', usecols = [0, 1])\n",
    "\n",
    "#merge to_stn with stations\n",
    "to_stn = pd.merge(to_stn, stations, how = 'left', left_on = 'from_station_id', right_on = 'ID')\n",
    "\n",
    "#merge from_stn with stations\n",
    "from_stn = pd.merge(from_stn, stations, how = 'left', left_on = 'to_station_id', right_on = 'ID')"
   ]
  },
  {
   "cell_type": "code",
   "execution_count": 7,
   "metadata": {},
   "outputs": [],
   "source": [
    "#define the number of trips that start and end at station of interest\n",
    "total_in = to_stn.num_trips.sum()\n",
    "total_out = from_stn.num_trips.sum()\n",
    "\n",
    "#define the \n",
    "looprides = from_stn[from_stn['to_station_id'] == 192]\n",
    "\n",
    "#assign values for inflows\n",
    "in1 = to_stn.iloc[0, 1] / total_in\n",
    "in2 = to_stn.iloc[1, 1] / total_in\n",
    "in3 = to_stn.iloc[2, 1] / total_in\n",
    "in4 = to_stn.iloc[3, 1] / total_in\n",
    "in5 = to_stn.iloc[4, 1] / total_in\n",
    "in6 = to_stn.iloc[5, 1] / total_in\n",
    "in_rest = to_stn.iloc[6: , 1].sum() / total_in\n",
    "\n",
    "in_vals = [in1, in2, in3, in4, in5, in6, in_rest]\n",
    "\n",
    "#assign values for inflows\n",
    "out1 = (-1) * from_stn.iloc[0, 1] / total_out\n",
    "out2 = (-1) * from_stn.iloc[1, 1] / total_out\n",
    "out3 = (-1) * from_stn.iloc[2, 1] / total_out\n",
    "out4 = (-1) * from_stn.iloc[3, 1] / total_out\n",
    "out5 = (-1) * from_stn.iloc[4, 1] / total_out\n",
    "out6 = (-1) * from_stn.iloc[5, 1] / total_out\n",
    "out_rest = (-1) * from_stn.iloc[6: , 1].sum() / total_out\n",
    "\n",
    "out_vals = [out1, out2, out3, out4, out5, out6, out_rest]"
   ]
  },
  {
   "cell_type": "code",
   "execution_count": 8,
   "metadata": {},
   "outputs": [
    {
     "data": {
      "text/html": [
       "<div>\n",
       "<style scoped>\n",
       "    .dataframe tbody tr th:only-of-type {\n",
       "        vertical-align: middle;\n",
       "    }\n",
       "\n",
       "    .dataframe tbody tr th {\n",
       "        vertical-align: top;\n",
       "    }\n",
       "\n",
       "    .dataframe thead th {\n",
       "        text-align: right;\n",
       "    }\n",
       "</style>\n",
       "<table border=\"1\" class=\"dataframe\">\n",
       "  <thead>\n",
       "    <tr style=\"text-align: right;\">\n",
       "      <th></th>\n",
       "      <th>from_station_id</th>\n",
       "      <th>num_trips</th>\n",
       "      <th>ID</th>\n",
       "      <th>Station Name</th>\n",
       "    </tr>\n",
       "  </thead>\n",
       "  <tbody>\n",
       "    <tr>\n",
       "      <th>0</th>\n",
       "      <td>43</td>\n",
       "      <td>4112</td>\n",
       "      <td>43</td>\n",
       "      <td>Michigan Ave &amp; Washington St</td>\n",
       "    </tr>\n",
       "    <tr>\n",
       "      <th>1</th>\n",
       "      <td>195</td>\n",
       "      <td>2102</td>\n",
       "      <td>195</td>\n",
       "      <td>Columbus Dr &amp; Randolph St</td>\n",
       "    </tr>\n",
       "    <tr>\n",
       "      <th>2</th>\n",
       "      <td>133</td>\n",
       "      <td>2048</td>\n",
       "      <td>133</td>\n",
       "      <td>Kingsbury St &amp; Kinzie St</td>\n",
       "    </tr>\n",
       "    <tr>\n",
       "      <th>3</th>\n",
       "      <td>44</td>\n",
       "      <td>1833</td>\n",
       "      <td>44</td>\n",
       "      <td>State St &amp; Randolph St</td>\n",
       "    </tr>\n",
       "    <tr>\n",
       "      <th>4</th>\n",
       "      <td>52</td>\n",
       "      <td>1772</td>\n",
       "      <td>52</td>\n",
       "      <td>Michigan Ave &amp; Lake St</td>\n",
       "    </tr>\n",
       "    <tr>\n",
       "      <th>5</th>\n",
       "      <td>48</td>\n",
       "      <td>1626</td>\n",
       "      <td>48</td>\n",
       "      <td>Larrabee St &amp; Kingsbury St</td>\n",
       "    </tr>\n",
       "    <tr>\n",
       "      <th>6</th>\n",
       "      <td>74</td>\n",
       "      <td>1395</td>\n",
       "      <td>74</td>\n",
       "      <td>Kingsbury St &amp; Erie St</td>\n",
       "    </tr>\n",
       "  </tbody>\n",
       "</table>\n",
       "</div>"
      ],
      "text/plain": [
       "   from_station_id  num_trips   ID                  Station Name\n",
       "0               43       4112   43  Michigan Ave & Washington St\n",
       "1              195       2102  195     Columbus Dr & Randolph St\n",
       "2              133       2048  133      Kingsbury St & Kinzie St\n",
       "3               44       1833   44        State St & Randolph St\n",
       "4               52       1772   52        Michigan Ave & Lake St\n",
       "5               48       1626   48    Larrabee St & Kingsbury St\n",
       "6               74       1395   74        Kingsbury St & Erie St"
      ]
     },
     "execution_count": 8,
     "metadata": {},
     "output_type": "execute_result"
    }
   ],
   "source": [
    "to_stn.head(7)"
   ]
  },
  {
   "cell_type": "code",
   "execution_count": 9,
   "metadata": {},
   "outputs": [
    {
     "data": {
      "text/plain": [
       "[0.06948410753814697,\n",
       " 0.03551935652849828,\n",
       " 0.03460687068047787,\n",
       " 0.030973825174470674,\n",
       " 0.029943054123929096,\n",
       " 0.027475962757059092,\n",
       " 0.771996823197418]"
      ]
     },
     "execution_count": 9,
     "metadata": {},
     "output_type": "execute_result"
    }
   ],
   "source": [
    "in_vals"
   ]
  },
  {
   "cell_type": "code",
   "execution_count": 10,
   "metadata": {},
   "outputs": [
    {
     "data": {
      "text/html": [
       "<div>\n",
       "<style scoped>\n",
       "    .dataframe tbody tr th:only-of-type {\n",
       "        vertical-align: middle;\n",
       "    }\n",
       "\n",
       "    .dataframe tbody tr th {\n",
       "        vertical-align: top;\n",
       "    }\n",
       "\n",
       "    .dataframe thead th {\n",
       "        text-align: right;\n",
       "    }\n",
       "</style>\n",
       "<table border=\"1\" class=\"dataframe\">\n",
       "  <thead>\n",
       "    <tr style=\"text-align: right;\">\n",
       "      <th></th>\n",
       "      <th>to_station_id</th>\n",
       "      <th>num_trips</th>\n",
       "      <th>ID</th>\n",
       "      <th>Station Name</th>\n",
       "    </tr>\n",
       "  </thead>\n",
       "  <tbody>\n",
       "    <tr>\n",
       "      <th>0</th>\n",
       "      <td>43</td>\n",
       "      <td>3981</td>\n",
       "      <td>43</td>\n",
       "      <td>Michigan Ave &amp; Washington St</td>\n",
       "    </tr>\n",
       "    <tr>\n",
       "      <th>1</th>\n",
       "      <td>48</td>\n",
       "      <td>2012</td>\n",
       "      <td>48</td>\n",
       "      <td>Larrabee St &amp; Kingsbury St</td>\n",
       "    </tr>\n",
       "    <tr>\n",
       "      <th>2</th>\n",
       "      <td>195</td>\n",
       "      <td>1834</td>\n",
       "      <td>195</td>\n",
       "      <td>Columbus Dr &amp; Randolph St</td>\n",
       "    </tr>\n",
       "    <tr>\n",
       "      <th>3</th>\n",
       "      <td>133</td>\n",
       "      <td>1830</td>\n",
       "      <td>133</td>\n",
       "      <td>Kingsbury St &amp; Kinzie St</td>\n",
       "    </tr>\n",
       "    <tr>\n",
       "      <th>4</th>\n",
       "      <td>44</td>\n",
       "      <td>1343</td>\n",
       "      <td>44</td>\n",
       "      <td>State St &amp; Randolph St</td>\n",
       "    </tr>\n",
       "    <tr>\n",
       "      <th>5</th>\n",
       "      <td>47</td>\n",
       "      <td>1292</td>\n",
       "      <td>47</td>\n",
       "      <td>State St &amp; Kinzie St</td>\n",
       "    </tr>\n",
       "    <tr>\n",
       "      <th>6</th>\n",
       "      <td>66</td>\n",
       "      <td>1185</td>\n",
       "      <td>66</td>\n",
       "      <td>Clinton St &amp; Lake St</td>\n",
       "    </tr>\n",
       "  </tbody>\n",
       "</table>\n",
       "</div>"
      ],
      "text/plain": [
       "   to_station_id  num_trips   ID                  Station Name\n",
       "0             43       3981   43  Michigan Ave & Washington St\n",
       "1             48       2012   48    Larrabee St & Kingsbury St\n",
       "2            195       1834  195     Columbus Dr & Randolph St\n",
       "3            133       1830  133      Kingsbury St & Kinzie St\n",
       "4             44       1343   44        State St & Randolph St\n",
       "5             47       1292   47          State St & Kinzie St\n",
       "6             66       1185   66          Clinton St & Lake St"
      ]
     },
     "execution_count": 10,
     "metadata": {},
     "output_type": "execute_result"
    }
   ],
   "source": [
    "from_stn.head(7)"
   ]
  },
  {
   "cell_type": "code",
   "execution_count": 11,
   "metadata": {},
   "outputs": [
    {
     "data": {
      "text/plain": [
       "[-0.06353943882274077,\n",
       " -0.03211287387876273,\n",
       " -0.02927187410221215,\n",
       " -0.02920803141060427,\n",
       " -0.021435183707345103,\n",
       " -0.020621189389344655,\n",
       " -0.8038114086889904]"
      ]
     },
     "execution_count": 11,
     "metadata": {},
     "output_type": "execute_result"
    }
   ],
   "source": [
    "out_vals"
   ]
  },
  {
   "cell_type": "code",
   "execution_count": 19,
   "metadata": {},
   "outputs": [
    {
     "data": {
      "image/png": "[encoded data removed]",
      "text/plain": [
       "<Figure size 936x648 with 1 Axes>"
      ]
     },
     "metadata": {},
     "output_type": "display_data"
    }
   ],
   "source": [
    "#create a sankey diagram that shows the 6 largest inflows and outflows for the given station\n",
    "fig = plt.figure(figsize=(13,9))\n",
    "ax = fig.add_subplot(1, 1, 1, xticks=[], yticks=[], title = \"Largest Sources and Destinations For Divvy Bikes at Chicago Union Station (2018)\")\n",
    "sankey = Sankey(ax = ax, unit = None, shoulder = 0.1, scale = 1, offset = 0.35, gap = 0.9)\n",
    "sankey.add(flows=[in1, in2, in3, in4, in5, in6, in_rest, out1, out2, out3, out4, out5, out6, out_rest],\n",
    "       labels=['Michigan & \\n Washington \\n (6.9%)', 'Columbus & \\n Randolph \\n (3.6%)', 'Kingsbury & \\n Kinzie \\n (3.5%)', 'State & \\n Randolph \\n (3.1%)', 'Michigan & \\n Lake \\n (3.0%)', 'Larrabee & \\n Kingsbury \\n (2.7%)', '', 'Michigan & \\n Washington \\n (6.4%)', 'Larrabee & \\n Kingsbury \\n (3.2%)', 'Columbus & \\n Randolph \\n (2.9%)', 'Kingsbury & \\n Kinzie \\n (2.9%)', 'State & \\n Randolph \\n (2.1%)', 'State & \\n Kinzie \\n (2.0%)', ''],\n",
    "       orientations=[1, 1, 1, -1, -1, -1, 0, 1, 1, 1, -1, -1, -1, 0], \n",
    "       pathlengths = [1.4, 0.8, 0.2, 0.2, 0.8, 1.4, 0.6, 1.4, 0.8, 0.2, 0.2, 0.8, 1.4, 0.6],\n",
    "       trunklength = 2, \n",
    "       fc = (0.316, 0.758, 0.937, 1),\n",
    "       ec = 'k')\n",
    "plt.text(-2.5,0,'62,654 Arrivals')\n",
    "plt.text(1.7,0,'59,179 Departures')\n",
    "diagrams = sankey.finish()\n",
    "\n",
    "#save the figure\n",
    "plt.savefig('stn192.png', dpi=300)"
   ]
  },
  {
   "cell_type": "code",
   "execution_count": null,
   "metadata": {},
   "outputs": [],
   "source": []
  }
 ],
 "metadata": {
  "kernelspec": {
   "display_name": "Python 3",
   "language": "python",
   "name": "python3"
  },
  "language_info": {
   "codemirror_mode": {
    "name": "ipython",
    "version": 3
   },
   "file_extension": ".py",
   "mimetype": "text/x-python",
   "name": "python",
   "nbconvert_exporter": "python",
   "pygments_lexer": "ipython3",
   "version": "3.8.3"
  }
 },
 "nbformat": 4,
 "nbformat_minor": 4
}
